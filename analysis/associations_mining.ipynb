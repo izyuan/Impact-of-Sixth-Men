{
 "cells": [
  {
   "cell_type": "code",
   "execution_count": 4,
   "metadata": {},
   "outputs": [
    {
     "data": {
      "text/html": [
       "<div>\n",
       "<style scoped>\n",
       "    .dataframe tbody tr th:only-of-type {\n",
       "        vertical-align: middle;\n",
       "    }\n",
       "\n",
       "    .dataframe tbody tr th {\n",
       "        vertical-align: top;\n",
       "    }\n",
       "\n",
       "    .dataframe thead th {\n",
       "        text-align: right;\n",
       "    }\n",
       "</style>\n",
       "<table border=\"1\" class=\"dataframe\">\n",
       "  <thead>\n",
       "    <tr style=\"text-align: right;\">\n",
       "      <th></th>\n",
       "      <th>Unnamed: 0</th>\n",
       "      <th>Player</th>\n",
       "      <th>Tm</th>\n",
       "      <th>Pos</th>\n",
       "      <th>Age</th>\n",
       "      <th>MP</th>\n",
       "      <th>Team Performance</th>\n",
       "      <th>Team Performance (20)</th>\n",
       "      <th>Season</th>\n",
       "      <th>Composite</th>\n",
       "      <th>ORtg</th>\n",
       "      <th>DRtg</th>\n",
       "    </tr>\n",
       "  </thead>\n",
       "  <tbody>\n",
       "    <tr>\n",
       "      <th>0</th>\n",
       "      <td>0</td>\n",
       "      <td>Jason Terry</td>\n",
       "      <td>ATL</td>\n",
       "      <td>PG</td>\n",
       "      <td>22</td>\n",
       "      <td>1888</td>\n",
       "      <td>Average</td>\n",
       "      <td>bottom</td>\n",
       "      <td>1999-2000</td>\n",
       "      <td>0.209845</td>\n",
       "      <td>100.0</td>\n",
       "      <td>108.0</td>\n",
       "    </tr>\n",
       "    <tr>\n",
       "      <th>1</th>\n",
       "      <td>1</td>\n",
       "      <td>LaPhonso Ellis</td>\n",
       "      <td>ATL</td>\n",
       "      <td>PF</td>\n",
       "      <td>29</td>\n",
       "      <td>1309</td>\n",
       "      <td>Average</td>\n",
       "      <td>bottom</td>\n",
       "      <td>1999-2000</td>\n",
       "      <td>0.189767</td>\n",
       "      <td>103.0</td>\n",
       "      <td>108.0</td>\n",
       "    </tr>\n",
       "    <tr>\n",
       "      <th>2</th>\n",
       "      <td>2</td>\n",
       "      <td>Matt Maloney</td>\n",
       "      <td>ATL</td>\n",
       "      <td>PG</td>\n",
       "      <td>29</td>\n",
       "      <td>1403</td>\n",
       "      <td>Average</td>\n",
       "      <td>bottom</td>\n",
       "      <td>2000-2001</td>\n",
       "      <td>0.164912</td>\n",
       "      <td>100.0</td>\n",
       "      <td>107.0</td>\n",
       "    </tr>\n",
       "    <tr>\n",
       "      <th>3</th>\n",
       "      <td>3</td>\n",
       "      <td>DerMarr Johnson</td>\n",
       "      <td>ATL</td>\n",
       "      <td>SF</td>\n",
       "      <td>20</td>\n",
       "      <td>1313</td>\n",
       "      <td>Average</td>\n",
       "      <td>bottom</td>\n",
       "      <td>2000-2001</td>\n",
       "      <td>0.096842</td>\n",
       "      <td>88.0</td>\n",
       "      <td>106.0</td>\n",
       "    </tr>\n",
       "    <tr>\n",
       "      <th>4</th>\n",
       "      <td>4</td>\n",
       "      <td>Jacque Vaughn</td>\n",
       "      <td>ATL</td>\n",
       "      <td>PG</td>\n",
       "      <td>26</td>\n",
       "      <td>1856</td>\n",
       "      <td>Average</td>\n",
       "      <td>Average</td>\n",
       "      <td>2001-2002</td>\n",
       "      <td>0.199747</td>\n",
       "      <td>110.0</td>\n",
       "      <td>109.0</td>\n",
       "    </tr>\n",
       "  </tbody>\n",
       "</table>\n",
       "</div>"
      ],
      "text/plain": [
       "   Unnamed: 0           Player   Tm Pos  Age    MP Team Performance  \\\n",
       "0           0      Jason Terry  ATL  PG   22  1888          Average   \n",
       "1           1   LaPhonso Ellis  ATL  PF   29  1309          Average   \n",
       "2           2     Matt Maloney  ATL  PG   29  1403          Average   \n",
       "3           3  DerMarr Johnson  ATL  SF   20  1313          Average   \n",
       "4           4    Jacque Vaughn  ATL  PG   26  1856          Average   \n",
       "\n",
       "  Team Performance (20)     Season  Composite   ORtg   DRtg  \n",
       "0                bottom  1999-2000   0.209845  100.0  108.0  \n",
       "1                bottom  1999-2000   0.189767  103.0  108.0  \n",
       "2                bottom  2000-2001   0.164912  100.0  107.0  \n",
       "3                bottom  2000-2001   0.096842   88.0  106.0  \n",
       "4               Average  2001-2002   0.199747  110.0  109.0  "
      ]
     },
     "execution_count": 4,
     "metadata": {},
     "output_type": "execute_result"
    }
   ],
   "source": [
    "import pandas as pd\n",
    "\n",
    "df = pd.read_csv(\"analysis_dataframe2.csv\")\n",
    "\n",
    "df.head()"
   ]
  },
  {
   "cell_type": "markdown",
   "metadata": {},
   "source": [
    "Here, I will be utilizing something called association mining to look for trends / relationships in my data.\n",
    "\n",
    "To do this, I need to have rows of binary data. for example, instead of having a column \"Team Performance\" with however a team did, I would have a column \"Top Team\" and the number being 0 or 1. \n",
    "\n",
    "I think I will do this technic with Position, Age (ranges), Season (ranges), Composite scores, ORtg, DRtg, and Team Performance (with 20 percentile)\n",
    "\n",
    "Support \n",
    "Confidence\n",
    "Lift"
   ]
  },
  {
   "cell_type": "code",
   "execution_count": 9,
   "metadata": {},
   "outputs": [
    {
     "data": {
      "text/plain": [
       "Bottom_25_Composite\n",
       "1    1072\n",
       "0     358\n",
       "Name: count, dtype: int64"
      ]
     },
     "execution_count": 9,
     "metadata": {},
     "output_type": "execute_result"
    }
   ],
   "source": [
    "#calculating the percentile numbers\n",
    "top_25_cutoff = df['Composite'].quantile(0.75)\n",
    "bottom_25_cutoff = df[\"Composite\"].quantile(0.25)\n",
    "\n",
    "df['Top_25_Composite'] = (df['Composite'] >= top_25_cutoff).astype(int)\n",
    "df['Bottom_25_Composite'] = (df['Composite'] >= bottom_25_cutoff).astype(int)\n"
   ]
  }
 ],
 "metadata": {
  "kernelspec": {
   "display_name": "Python 3",
   "language": "python",
   "name": "python3"
  },
  "language_info": {
   "codemirror_mode": {
    "name": "ipython",
    "version": 3
   },
   "file_extension": ".py",
   "mimetype": "text/x-python",
   "name": "python",
   "nbconvert_exporter": "python",
   "pygments_lexer": "ipython3",
   "version": "3.11.8"
  }
 },
 "nbformat": 4,
 "nbformat_minor": 2
}
