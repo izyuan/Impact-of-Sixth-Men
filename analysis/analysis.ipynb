{
 "cells": [
  {
   "cell_type": "code",
   "execution_count": 3,
   "metadata": {},
   "outputs": [
    {
     "data": {
      "text/html": [
       "<div>\n",
       "<style scoped>\n",
       "    .dataframe tbody tr th:only-of-type {\n",
       "        vertical-align: middle;\n",
       "    }\n",
       "\n",
       "    .dataframe tbody tr th {\n",
       "        vertical-align: top;\n",
       "    }\n",
       "\n",
       "    .dataframe thead th {\n",
       "        text-align: right;\n",
       "    }\n",
       "</style>\n",
       "<table border=\"1\" class=\"dataframe\">\n",
       "  <thead>\n",
       "    <tr style=\"text-align: right;\">\n",
       "      <th></th>\n",
       "      <th>Unnamed: 0</th>\n",
       "      <th>Player</th>\n",
       "      <th>Tm</th>\n",
       "      <th>Pos</th>\n",
       "      <th>Age</th>\n",
       "      <th>MP</th>\n",
       "      <th>Team Performance</th>\n",
       "      <th>Season</th>\n",
       "      <th>Composite</th>\n",
       "    </tr>\n",
       "  </thead>\n",
       "  <tbody>\n",
       "    <tr>\n",
       "      <th>0</th>\n",
       "      <td>0</td>\n",
       "      <td>Jason Terry</td>\n",
       "      <td>ATL</td>\n",
       "      <td>PG</td>\n",
       "      <td>22</td>\n",
       "      <td>1888</td>\n",
       "      <td>Average</td>\n",
       "      <td>1999-2000</td>\n",
       "      <td>0.209845</td>\n",
       "    </tr>\n",
       "    <tr>\n",
       "      <th>1</th>\n",
       "      <td>1</td>\n",
       "      <td>LaPhonso Ellis</td>\n",
       "      <td>ATL</td>\n",
       "      <td>PF</td>\n",
       "      <td>29</td>\n",
       "      <td>1309</td>\n",
       "      <td>Average</td>\n",
       "      <td>1999-2000</td>\n",
       "      <td>0.189767</td>\n",
       "    </tr>\n",
       "    <tr>\n",
       "      <th>2</th>\n",
       "      <td>2</td>\n",
       "      <td>Matt Maloney</td>\n",
       "      <td>ATL</td>\n",
       "      <td>PG</td>\n",
       "      <td>29</td>\n",
       "      <td>1403</td>\n",
       "      <td>Average</td>\n",
       "      <td>2000-2001</td>\n",
       "      <td>0.164912</td>\n",
       "    </tr>\n",
       "    <tr>\n",
       "      <th>3</th>\n",
       "      <td>3</td>\n",
       "      <td>DerMarr Johnson</td>\n",
       "      <td>ATL</td>\n",
       "      <td>SF</td>\n",
       "      <td>20</td>\n",
       "      <td>1313</td>\n",
       "      <td>Average</td>\n",
       "      <td>2000-2001</td>\n",
       "      <td>0.096842</td>\n",
       "    </tr>\n",
       "    <tr>\n",
       "      <th>4</th>\n",
       "      <td>4</td>\n",
       "      <td>Jacque Vaughn</td>\n",
       "      <td>ATL</td>\n",
       "      <td>PG</td>\n",
       "      <td>26</td>\n",
       "      <td>1856</td>\n",
       "      <td>Average</td>\n",
       "      <td>2001-2002</td>\n",
       "      <td>0.199747</td>\n",
       "    </tr>\n",
       "  </tbody>\n",
       "</table>\n",
       "</div>"
      ],
      "text/plain": [
       "   Unnamed: 0           Player   Tm Pos  Age    MP Team Performance  \\\n",
       "0           0      Jason Terry  ATL  PG   22  1888          Average   \n",
       "1           1   LaPhonso Ellis  ATL  PF   29  1309          Average   \n",
       "2           2     Matt Maloney  ATL  PG   29  1403          Average   \n",
       "3           3  DerMarr Johnson  ATL  SF   20  1313          Average   \n",
       "4           4    Jacque Vaughn  ATL  PG   26  1856          Average   \n",
       "\n",
       "      Season  Composite  \n",
       "0  1999-2000   0.209845  \n",
       "1  1999-2000   0.189767  \n",
       "2  2000-2001   0.164912  \n",
       "3  2000-2001   0.096842  \n",
       "4  2001-2002   0.199747  "
      ]
     },
     "execution_count": 3,
     "metadata": {},
     "output_type": "execute_result"
    }
   ],
   "source": [
    "import pandas as pd\n",
    "\n",
    "df = pd.read_csv(\"analysis_dataframe2.csv\")\n",
    "df.head()"
   ]
  },
  {
   "cell_type": "markdown",
   "metadata": {},
   "source": [
    "# Steps to analyze / visualize this data\n",
    "\n",
    "<ol>\n",
    "<li>Descriptive stats </li> - 1. Find average age of these Sixth Men 2. Group data and find average PIE to see if there is any noticable difference between the top, average, and medium teams 3. Finally, look for changes in usages through different generations \n",
    "<li>Visualizations</li> - 1. Bar charts showing average PIE for sixth men in top, average, and bottom teams. maybe : Heatmap of PIE vs. Team Performance2. A scatter plot showing age on the x-axis and PIE on the y-axis. 3. Violin Plot for PIE by Position 4. Line graphs showing the change in average PIE of sixth men over the seasons 5. Box Plot of Age Groups and PIE\n",
    "<li>Advanced Analysis</li> 1. Association Rules Mining: Explore the relationship between team success and the characteristics of its sixth man using association rules mining.e.g. \"Teams with sixth men aged over 30 and with a PIE above X tend to finish in the top Y%.\" 2. Cluster Analysis: Perform cluster analysis to segment sixth men into distinct groups based on multiple factors like PIE, age, minutes played, and team performance. This could reveal unique profiles of sixth men, such as high-impact veterans or efficient young talents.\n",
    "</ol>"
   ]
  },
  {
   "cell_type": "markdown",
   "metadata": {},
   "source": [
    "## Let's start with descriptive Stats"
   ]
  },
  {
   "cell_type": "code",
   "execution_count": 7,
   "metadata": {},
   "outputs": [
    {
     "name": "stdout",
     "output_type": "stream",
     "text": [
      "Average Age of Sixth Men: 26.365734265734265 | Average age in NBA : 26.18 \n"
     ]
    }
   ],
   "source": [
    "average_age = df.loc[:, 'Age'].mean() #calculating average\n",
    "print(f\"Average Age of Sixth Men: {average_age} | Average age in NBA : 26.18 \")"
   ]
  },
  {
   "cell_type": "code",
   "execution_count": 1,
   "metadata": {},
   "outputs": [
    {
     "ename": "NameError",
     "evalue": "name 'df' is not defined",
     "output_type": "error",
     "traceback": [
      "\u001b[1;31m---------------------------------------------------------------------------\u001b[0m",
      "\u001b[1;31mNameError\u001b[0m                                 Traceback (most recent call last)",
      "Cell \u001b[1;32mIn[1], line 2\u001b[0m\n\u001b[0;32m      1\u001b[0m \u001b[38;5;66;03m#grouping the different team performances\u001b[39;00m\n\u001b[1;32m----> 2\u001b[0m top_teams \u001b[38;5;241m=\u001b[39m \u001b[43mdf\u001b[49m[df[\u001b[38;5;124m\"\u001b[39m\u001b[38;5;124mTeam Performance\u001b[39m\u001b[38;5;124m\"\u001b[39m] \u001b[38;5;241m==\u001b[39m \u001b[38;5;124m\"\u001b[39m\u001b[38;5;124mtop\u001b[39m\u001b[38;5;124m\"\u001b[39m]\n\u001b[0;32m      3\u001b[0m mid_teams \u001b[38;5;241m=\u001b[39m df[df[\u001b[38;5;124m\"\u001b[39m\u001b[38;5;124mTeam Performance\u001b[39m\u001b[38;5;124m\"\u001b[39m] \u001b[38;5;241m==\u001b[39m \u001b[38;5;124m\"\u001b[39m\u001b[38;5;124mAverage\u001b[39m\u001b[38;5;124m\"\u001b[39m]\n\u001b[0;32m      4\u001b[0m bottom_teams \u001b[38;5;241m=\u001b[39m df[df[\u001b[38;5;124m\"\u001b[39m\u001b[38;5;124mTeam Performance\u001b[39m\u001b[38;5;124m\"\u001b[39m] \u001b[38;5;241m==\u001b[39m \u001b[38;5;124m\"\u001b[39m\u001b[38;5;124mbottom\u001b[39m\u001b[38;5;124m\"\u001b[39m] \n",
      "\u001b[1;31mNameError\u001b[0m: name 'df' is not defined"
     ]
    }
   ],
   "source": [
    "#grouping the different team performances\n",
    "top_teams = df[df[\"Team Performance\"] == \"top\"]\n",
    "mid_teams = df[df[\"Team Performance\"] == \"Average\"]\n",
    "bottom_teams = df[df[\"Team Performance\"] == \"bottom\"] \n",
    "\n",
    "#averaging the groups\n",
    "averageTopPIE =  top_teams.loc[:, 'Composite'].mean() \n",
    "averagemidPIE = mid_teams.loc[:, 'Composite'].mean() \n",
    "averageBotPIE = bottom_teams.loc[:, 'Composite'].mean() \n",
    "\n",
    "print(f\"average PIE score of sixth man on top team : {averageTopPIE} | average PIE score of sixth man on average team : {averagemidPIE} | average PIE score of sixth man on bottom team : {averageBotPIE}\")"
   ]
  }
 ],
 "metadata": {
  "kernelspec": {
   "display_name": "Python 3",
   "language": "python",
   "name": "python3"
  },
  "language_info": {
   "codemirror_mode": {
    "name": "ipython",
    "version": 3
   },
   "file_extension": ".py",
   "mimetype": "text/x-python",
   "name": "python",
   "nbconvert_exporter": "python",
   "pygments_lexer": "ipython3",
   "version": "3.11.8"
  }
 },
 "nbformat": 4,
 "nbformat_minor": 2
}
