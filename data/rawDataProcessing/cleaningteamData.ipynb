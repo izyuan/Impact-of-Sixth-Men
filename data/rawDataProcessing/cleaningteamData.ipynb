{
 "cells": [
  {
   "cell_type": "code",
   "execution_count": 12,
   "metadata": {},
   "outputs": [],
   "source": [
    "import pandas as pd\n",
    "import os\n",
    "\n"
   ]
  },
  {
   "cell_type": "code",
   "execution_count": 15,
   "metadata": {},
   "outputs": [],
   "source": [
    "nba_teams = {\n",
    "    # Current Teams\n",
    "    \"ATL\": \"Atlanta Hawks\",\n",
    "    \"BOS\": \"Boston Celtics\",\n",
    "    \"BRK\": \"Brooklyn Nets\",\n",
    "    \"CHO\": \"Charlotte Hornets\",\n",
    "    \"CHI\": \"Chicago Bulls\",\n",
    "    \"CLE\": \"Cleveland Cavaliers\",\n",
    "    \"DAL\": \"Dallas Mavericks\",\n",
    "    \"DEN\": \"Denver Nuggets\",\n",
    "    \"DET\": \"Detroit Pistons\",\n",
    "    \"GSW\": \"Golden State Warriors\",\n",
    "    \"HOU\": \"Houston Rockets\",\n",
    "    \"IND\": \"Indiana Pacers\",\n",
    "    \"LAC\": \"Los Angeles Clippers\",\n",
    "    \"LAL\": \"Los Angeles Lakers\",\n",
    "    \"MEM\": \"Memphis Grizzlies\",\n",
    "    \"MIA\": \"Miami Heat\",\n",
    "    \"MIL\": \"Milwaukee Bucks\",\n",
    "    \"MIN\": \"Minnesota Timberwolves\",\n",
    "    \"NOP\": \"New Orleans Pelicans\",\n",
    "    \"NYK\": \"New York Knicks\",\n",
    "    \"OKC\": \"Oklahoma City Thunder\",\n",
    "    \"ORL\": \"Orlando Magic\",\n",
    "    \"PHI\": \"Philadelphia 76ers\",\n",
    "    \"PHO\": \"Phoenix Suns\",\n",
    "    \"POR\": \"Portland Trail Blazers\",\n",
    "    \"SAC\": \"Sacramento Kings\",\n",
    "    \"SAS\": \"San Antonio Spurs\",\n",
    "    \"TOR\": \"Toronto Raptors\",\n",
    "    \"UTA\": \"Utah Jazz\",\n",
    "    \"WAS\": \"Washington Wizards\",\n",
    "    \"NOH\": \"New Orleans Hornets\",  # Now Pelicans\n",
    "    \"CHA\": \"Charlotte Bobcats\",    # Now Hornets\n",
    "    \"SEA\": \"Seattle SuperSonics\",  # Became OKC Thunder\n",
    "    \"VAN\": \"Vancouver Grizzlies\",  # Moved to Memphis\n",
    "    \"NJN\": \"New Jersey Nets\",      # Became Brooklyn Nets\n",
    "    \"WSB\": \"Washington Bullets\",   # Became Wizards\n",
    "    \"KCO\": \"Kansas City-Omaha Kings\",  # Now Sacramento Kings\n",
    "    \"ROC\": \"Rochester Royals\",     # Became Sacramento Kings\n",
    "    \"STL\": \"St. Louis Hawks\",      # Became Atlanta Hawks\n",
    "    \"SDC\": \"San Diego Clippers\",   # Became LA Clippers\n",
    "    \"BUF\": \"Buffalo Braves\",       # Became LA Clippers\n",
    "    \"CIN\": \"Cincinnati Royals\",    # Became Sacramento Kings\n",
    "    \"SYR\": \"Syracuse Nationals\",   # Became Philadelphia 76ers\n",
    "    \"FTW\": \"Fort Wayne Pistons\",   # Became Detroit Pistons\n",
    "    \"MNL\": \"Minneapolis Lakers\",   # Became LA Lakers\n",
    "    \"NOK\" : \"New Orleans/Oklahoma City Hornets\"\n",
    "}\n",
    "\n",
    "def find_abbreviation(team_name, team_dict):\n",
    "    team_name = team_name.rstrip('*').strip()\n",
    "    return next((abbr for abbr, full_name in team_dict.items() if full_name == team_name), '')"
   ]
  },
  {
   "cell_type": "code",
   "execution_count": 16,
   "metadata": {},
   "outputs": [],
   "source": [
    "base_path = \"team_per_100\"\n",
    "\n",
    "season_data_frames = []\n",
    "for year in range(1999, 2023):\n",
    "    #getting the directory of each file \n",
    "    season_file_name = f\"{str(year)[2:]}-{str(year+1)[2:]}nba.csv\"\n",
    "    season_path = os.path.join(base_path, season_file_name)\n",
    "    \n",
    "    if os.path.isfile(season_path):\n",
    "        season_data = pd.read_csv(season_path)\n",
    "        season_data.drop(columns=['Rk', 'Player-additional'], errors='ignore', inplace=True)\n",
    "        season_data['Season'] = f\"{year}-{year+1}\" #year \n",
    "        season_data['Tm'] = season_data['Team'].apply(lambda x: find_abbreviation(x, nba_teams)) #abbreviations\n",
    "        \n",
    "        season_data_frames.append(season_data)\n",
    "    else:\n",
    "        print(f\"File not found for season: {year}-{year+1}\")\n",
    "combined_df = pd.concat(season_data_frames, ignore_index=True)\n",
    "\n",
    "combined_df.loc[combined_df['Team'].str.contains('Charlotte Hornets'), 'Tm'] = 'CHA' #manually input bc there are two \"CHA\" keys, and I don't know how to bypass that lol\n",
    "\n",
    "\n",
    "combined_df.to_csv(\"combined/teamStatsPer100.csv\")\n"
   ]
  },
  {
   "cell_type": "code",
   "execution_count": 17,
   "metadata": {},
   "outputs": [
    {
     "name": "stdout",
     "output_type": "stream",
     "text": [
      "Empty DataFrame\n",
      "Columns: [Unnamed: 0, Team, G, MP, FG, FGA, FG%, 3P, 3PA, 3P%, 2P, 2PA, 2P%, FT, FTA, FT%, ORB, DRB, TRB, AST, STL, BLK, TOV, PF, PTS, Season, Tm]\n",
      "Index: []\n",
      "\n",
      "[0 rows x 27 columns]\n"
     ]
    }
   ],
   "source": [
    "#looking for missing data\n",
    "\n",
    "df = pd.read_csv(\"combined/teamStatsPer100.csv\")\n",
    "\n",
    "null_present = df.isnull().values.any()\n",
    "null_counts = df.isnull().sum()\n",
    "rows_with_null = df[df.isnull().any(axis=1)]\n",
    "\n",
    "print(rows_with_null)\n"
   ]
  }
 ],
 "metadata": {
  "kernelspec": {
   "display_name": "Python 3",
   "language": "python",
   "name": "python3"
  },
  "language_info": {
   "codemirror_mode": {
    "name": "ipython",
    "version": 3
   },
   "file_extension": ".py",
   "mimetype": "text/x-python",
   "name": "python",
   "nbconvert_exporter": "python",
   "pygments_lexer": "ipython3",
   "version": "3.11.8"
  }
 },
 "nbformat": 4,
 "nbformat_minor": 2
}
