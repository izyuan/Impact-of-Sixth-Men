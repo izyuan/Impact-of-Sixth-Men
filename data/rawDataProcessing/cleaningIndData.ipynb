{
 "cells": [
  {
   "cell_type": "code",
   "execution_count": 1,
   "metadata": {},
   "outputs": [],
   "source": [
    "import pandas as pd\n",
    "import numpy as np  \n",
    "import os"
   ]
  },
  {
   "cell_type": "code",
   "execution_count": 2,
   "metadata": {},
   "outputs": [],
   "source": [
    "def process_duplicates(df):\n",
    "    duplicate_players = df[df.duplicated('Player', keep=False)]\n",
    "    tot_df = duplicate_players[duplicate_players['Tm'] == 'TOT']\n",
    "    filtered_duplicates = duplicate_players[~duplicate_players['Player'].isin(tot_df['Player'])]\n",
    "    unique_non_tot = filtered_duplicates.drop_duplicates('Player', keep=False)\n",
    "    final_df = pd.concat([df[~df['Player'].isin(duplicate_players['Player'])], tot_df, unique_non_tot]).reset_index(drop=True)\n",
    "    \n",
    "    return final_df\n"
   ]
  },
  {
   "cell_type": "code",
   "execution_count": 3,
   "metadata": {},
   "outputs": [],
   "source": [
    "base_path = \"per_100_poss\"\n",
    "\n",
    "season_data_frames = []\n",
    "for year in range(1999, 2023):\n",
    "    #getting the directory of each file \n",
    "    season_file_name = f\"{str(year)[2:]}-{str(year+1)[2:]}nba.csv\"\n",
    "    season_path = os.path.join(base_path, season_file_name)\n",
    "    \n",
    "    if os.path.isfile(season_path):\n",
    "        season_data = pd.read_csv(season_path)\n",
    "        season_data.drop(columns=['Rk', 'Player-additional'], errors='ignore', inplace=True)\n",
    "        season_data['Season'] = f\"{year}-{year+1}\" \n",
    "        \n",
    "        season_data = process_duplicates(season_data) # if a team was on multiple teams, they will be dropped, \n",
    "        \n",
    "        season_data_frames.append(season_data)\n",
    "    else:\n",
    "        print(f\"File not found for season: {year}-{year+1}\")\n",
    "combined_df = pd.concat(season_data_frames, ignore_index=True)\n",
    "\n",
    "combined_df\n",
    "\n",
    "combined_df.to_csv(\"combined/99-23NBA_per_100_poss.csv\")"
   ]
  }
 ],
 "metadata": {
  "kernelspec": {
   "display_name": "Python 3",
   "language": "python",
   "name": "python3"
  },
  "language_info": {
   "codemirror_mode": {
    "name": "ipython",
    "version": 3
   },
   "file_extension": ".py",
   "mimetype": "text/x-python",
   "name": "python",
   "nbconvert_exporter": "python",
   "pygments_lexer": "ipython3",
   "version": "3.11.8"
  }
 },
 "nbformat": 4,
 "nbformat_minor": 2
}
